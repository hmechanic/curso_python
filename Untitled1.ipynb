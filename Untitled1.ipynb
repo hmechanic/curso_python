{
  "nbformat": 4,
  "nbformat_minor": 0,
  "metadata": {
    "colab": {
      "provenance": []
    },
    "kernelspec": {
      "name": "python3",
      "display_name": "Python 3"
    },
    "language_info": {
      "name": "python"
    }
  },
  "cells": [
    {
      "cell_type": "code",
      "execution_count": 1,
      "metadata": {
        "id": "QM539hQDkJkg"
      },
      "outputs": [],
      "source": [
        "lista = ['a', 1, 2, 8, 5, 'hola']"
      ]
    },
    {
      "cell_type": "code",
      "source": [
        "\n",
        "\n",
        "def nombre_función(var1, var2, var3):\n",
        "\n",
        "  operacion = [var1, var2, var3]\n",
        "\n",
        "  operacion1 = var2\n",
        "  return [operacion, operacion1]\n",
        "\n"
      ],
      "metadata": {
        "id": "88WMj22ZkWHK"
      },
      "execution_count": 13,
      "outputs": []
    },
    {
      "cell_type": "code",
      "source": [
        "numero1 = 23\n",
        "letra = 'vocales'\n",
        "animales = ['vaca', 'perro', 'gato']\n",
        "\n"
      ],
      "metadata": {
        "id": "7KEnn-WEm4Kr"
      },
      "execution_count": 14,
      "outputs": []
    },
    {
      "cell_type": "code",
      "source": [
        "resultado = nombre_función(numero1, letra, animales)"
      ],
      "metadata": {
        "id": "_Vr895amnDw1"
      },
      "execution_count": 15,
      "outputs": []
    },
    {
      "cell_type": "code",
      "source": [
        "resultado\n",
        "\n"
      ],
      "metadata": {
        "colab": {
          "base_uri": "https://localhost:8080/",
          "height": 0
        },
        "id": "KDGueut1oJEc",
        "outputId": "bcb58c10-80e8-4ee4-997b-6780d01b0f08"
      },
      "execution_count": 16,
      "outputs": [
        {
          "output_type": "execute_result",
          "data": {
            "text/plain": [
              "[[23, 'vocales', ['vaca', 'perro', 'gato']], 'vocales']"
            ]
          },
          "metadata": {},
          "execution_count": 16
        }
      ]
    },
    {
      "cell_type": "code",
      "source": [
        "# lista = [iteraciones, numero_cualuiera]\n",
        "list_ejercicio = [5, 7]\n",
        "\n"
      ],
      "metadata": {
        "id": "07uWARwZoKme"
      },
      "execution_count": 17,
      "outputs": []
    },
    {
      "cell_type": "code",
      "source": [
        "def suma_numero(x):\n",
        "\n",
        "  iter = x[0]\n",
        "  numero = x[1]\n",
        "\n",
        "  b = 0\n",
        "  for i in range(iter):\n",
        "    b += numero\n",
        "    b = b + numero\n",
        "\n",
        "  return b"
      ],
      "metadata": {
        "id": "Xxvt5t7GpaO_"
      },
      "execution_count": null,
      "outputs": []
    }
  ]
}